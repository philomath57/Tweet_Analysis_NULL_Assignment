{
 "cells": [
  {
   "cell_type": "markdown",
   "id": "278e7de2",
   "metadata": {},
   "source": [
    "## `Importing Essential Libraries`"
   ]
  },
  {
   "cell_type": "code",
   "execution_count": 1,
   "id": "c8c6a8b8",
   "metadata": {},
   "outputs": [],
   "source": [
    "import pandas as pd\n",
    "import numpy as np\n",
    "import matplotlib.pyplot as plt\n",
    "import seaborn as sns"
   ]
  },
  {
   "cell_type": "code",
   "execution_count": 2,
   "id": "6e898aa1",
   "metadata": {},
   "outputs": [],
   "source": [
    "tweet_data = pd.read_excel('Downloads/Tweet_NFT.xlsx') # Reading the CSV file for the analysis "
   ]
  },
  {
   "cell_type": "code",
   "execution_count": 3,
   "id": "ebe614ba",
   "metadata": {},
   "outputs": [
    {
     "data": {
      "text/html": [
       "<div>\n",
       "<style scoped>\n",
       "    .dataframe tbody tr th:only-of-type {\n",
       "        vertical-align: middle;\n",
       "    }\n",
       "\n",
       "    .dataframe tbody tr th {\n",
       "        vertical-align: top;\n",
       "    }\n",
       "\n",
       "    .dataframe thead th {\n",
       "        text-align: right;\n",
       "    }\n",
       "</style>\n",
       "<table border=\"1\" class=\"dataframe\">\n",
       "  <thead>\n",
       "    <tr style=\"text-align: right;\">\n",
       "      <th></th>\n",
       "      <th>id</th>\n",
       "      <th>tweet_text</th>\n",
       "      <th>tweet_created_at</th>\n",
       "      <th>tweet_intent</th>\n",
       "    </tr>\n",
       "  </thead>\n",
       "  <tbody>\n",
       "    <tr>\n",
       "      <th>0</th>\n",
       "      <td>1212762.0</td>\n",
       "      <td>@crypto_brody @eCoLoGy1990 @MoonrunnersNFT @It...</td>\n",
       "      <td>2022-08-06T16:56:36.000Z</td>\n",
       "      <td>Community</td>\n",
       "    </tr>\n",
       "    <tr>\n",
       "      <th>1</th>\n",
       "      <td>1212763.0</td>\n",
       "      <td>Need Sick Character artâ_x009d_“#art #artist #...</td>\n",
       "      <td>2022-08-06T16:56:36.000Z</td>\n",
       "      <td>Giveaway</td>\n",
       "    </tr>\n",
       "    <tr>\n",
       "      <th>2</th>\n",
       "      <td>1212765.0</td>\n",
       "      <td>@The_Hulk_NFT @INagotchiNFT @Tesla @killabears...</td>\n",
       "      <td>2022-08-06T16:56:35.000Z</td>\n",
       "      <td>Appreciation</td>\n",
       "    </tr>\n",
       "    <tr>\n",
       "      <th>3</th>\n",
       "      <td>1212766.0</td>\n",
       "      <td>@CryptoBatzNFT @DarekBTW The first project in ...</td>\n",
       "      <td>2022-08-06T16:56:35.000Z</td>\n",
       "      <td>Community</td>\n",
       "    </tr>\n",
       "    <tr>\n",
       "      <th>4</th>\n",
       "      <td>1212767.0</td>\n",
       "      <td>@sashadysonn The first project in crypto with ...</td>\n",
       "      <td>2022-08-06T16:56:34.000Z</td>\n",
       "      <td>Community</td>\n",
       "    </tr>\n",
       "  </tbody>\n",
       "</table>\n",
       "</div>"
      ],
      "text/plain": [
       "          id                                         tweet_text  \\\n",
       "0  1212762.0  @crypto_brody @eCoLoGy1990 @MoonrunnersNFT @It...   \n",
       "1  1212763.0  Need Sick Character artâ_x009d_“#art #artist #...   \n",
       "2  1212765.0  @The_Hulk_NFT @INagotchiNFT @Tesla @killabears...   \n",
       "3  1212766.0  @CryptoBatzNFT @DarekBTW The first project in ...   \n",
       "4  1212767.0  @sashadysonn The first project in crypto with ...   \n",
       "\n",
       "           tweet_created_at  tweet_intent  \n",
       "0  2022-08-06T16:56:36.000Z     Community  \n",
       "1  2022-08-06T16:56:36.000Z      Giveaway  \n",
       "2  2022-08-06T16:56:35.000Z  Appreciation  \n",
       "3  2022-08-06T16:56:35.000Z     Community  \n",
       "4  2022-08-06T16:56:34.000Z     Community  "
      ]
     },
     "execution_count": 3,
     "metadata": {},
     "output_type": "execute_result"
    }
   ],
   "source": [
    "tweet_data.head() # Provides view of the first 5 columns present in the dataset"
   ]
  },
  {
   "cell_type": "markdown",
   "id": "d80388b4",
   "metadata": {},
   "source": [
    "## `Performing Exploratory Data Analysis`"
   ]
  },
  {
   "cell_type": "code",
   "execution_count": 4,
   "id": "c4e85853",
   "metadata": {},
   "outputs": [
    {
     "data": {
      "text/plain": [
       "(127453, 4)"
      ]
     },
     "execution_count": 4,
     "metadata": {},
     "output_type": "execute_result"
    }
   ],
   "source": [
    "tweet_data.shape # Shows the number of rows and columns present in the dataset"
   ]
  },
  {
   "cell_type": "code",
   "execution_count": 5,
   "id": "ccd625d2",
   "metadata": {},
   "outputs": [
    {
     "data": {
      "text/plain": [
       "id                      0\n",
       "tweet_text              0\n",
       "tweet_created_at        0\n",
       "tweet_intent        31089\n",
       "dtype: int64"
      ]
     },
     "execution_count": 5,
     "metadata": {},
     "output_type": "execute_result"
    }
   ],
   "source": [
    "# Checking the number of null values in the dataset. It can be seen that there are 31089 null values in tweet_intent column\n",
    "tweet_data.isnull().sum() "
   ]
  },
  {
   "cell_type": "code",
   "execution_count": 6,
   "id": "078be21c",
   "metadata": {},
   "outputs": [],
   "source": [
    "# Using the ffill method to fill the null values with immediate upper value of the rows containing nan \n",
    "tweet_data.fillna(method='ffill',inplace=True)"
   ]
  },
  {
   "cell_type": "code",
   "execution_count": 7,
   "id": "12800c55",
   "metadata": {},
   "outputs": [
    {
     "data": {
      "text/plain": [
       "id                  0\n",
       "tweet_text          0\n",
       "tweet_created_at    0\n",
       "tweet_intent        0\n",
       "dtype: int64"
      ]
     },
     "execution_count": 7,
     "metadata": {},
     "output_type": "execute_result"
    }
   ],
   "source": [
    "tweet_data.isnull().sum()"
   ]
  },
  {
   "cell_type": "code",
   "execution_count": 8,
   "id": "d10157ee",
   "metadata": {},
   "outputs": [],
   "source": [
    "# Dropping unneccesary columns \n",
    "tweet_data.drop(['id','tweet_created_at'],axis=1,inplace=True)"
   ]
  },
  {
   "cell_type": "code",
   "execution_count": 9,
   "id": "76d98ced",
   "metadata": {},
   "outputs": [
    {
     "data": {
      "text/html": [
       "<div>\n",
       "<style scoped>\n",
       "    .dataframe tbody tr th:only-of-type {\n",
       "        vertical-align: middle;\n",
       "    }\n",
       "\n",
       "    .dataframe tbody tr th {\n",
       "        vertical-align: top;\n",
       "    }\n",
       "\n",
       "    .dataframe thead th {\n",
       "        text-align: right;\n",
       "    }\n",
       "</style>\n",
       "<table border=\"1\" class=\"dataframe\">\n",
       "  <thead>\n",
       "    <tr style=\"text-align: right;\">\n",
       "      <th></th>\n",
       "      <th>tweet_text</th>\n",
       "      <th>tweet_intent</th>\n",
       "    </tr>\n",
       "  </thead>\n",
       "  <tbody>\n",
       "    <tr>\n",
       "      <th>0</th>\n",
       "      <td>@crypto_brody @eCoLoGy1990 @MoonrunnersNFT @It...</td>\n",
       "      <td>Community</td>\n",
       "    </tr>\n",
       "    <tr>\n",
       "      <th>1</th>\n",
       "      <td>Need Sick Character artâ_x009d_“#art #artist #...</td>\n",
       "      <td>Giveaway</td>\n",
       "    </tr>\n",
       "    <tr>\n",
       "      <th>2</th>\n",
       "      <td>@The_Hulk_NFT @INagotchiNFT @Tesla @killabears...</td>\n",
       "      <td>Appreciation</td>\n",
       "    </tr>\n",
       "    <tr>\n",
       "      <th>3</th>\n",
       "      <td>@CryptoBatzNFT @DarekBTW The first project in ...</td>\n",
       "      <td>Community</td>\n",
       "    </tr>\n",
       "    <tr>\n",
       "      <th>4</th>\n",
       "      <td>@sashadysonn The first project in crypto with ...</td>\n",
       "      <td>Community</td>\n",
       "    </tr>\n",
       "  </tbody>\n",
       "</table>\n",
       "</div>"
      ],
      "text/plain": [
       "                                          tweet_text  tweet_intent\n",
       "0  @crypto_brody @eCoLoGy1990 @MoonrunnersNFT @It...     Community\n",
       "1  Need Sick Character artâ_x009d_“#art #artist #...      Giveaway\n",
       "2  @The_Hulk_NFT @INagotchiNFT @Tesla @killabears...  Appreciation\n",
       "3  @CryptoBatzNFT @DarekBTW The first project in ...     Community\n",
       "4  @sashadysonn The first project in crypto with ...     Community"
      ]
     },
     "execution_count": 9,
     "metadata": {},
     "output_type": "execute_result"
    }
   ],
   "source": [
    "tweet_data.head()"
   ]
  },
  {
   "cell_type": "code",
   "execution_count": 10,
   "id": "9afc5608",
   "metadata": {},
   "outputs": [
    {
     "name": "stderr",
     "output_type": "stream",
     "text": [
      "C:\\Users\\mdfai\\anaconda3\\lib\\site-packages\\seaborn\\_decorators.py:36: FutureWarning: Pass the following variable as a keyword arg: x. From version 0.12, the only valid positional argument will be `data`, and passing other arguments without an explicit keyword will result in an error or misinterpretation.\n",
      "  warnings.warn(\n"
     ]
    },
    {
     "data": {
      "text/plain": [
       "<AxesSubplot:xlabel='tweet_intent', ylabel='count'>"
      ]
     },
     "execution_count": 10,
     "metadata": {},
     "output_type": "execute_result"
    },
    {
     "data": {
      "image/png": "[encoded data removed]",
      "text/plain": [
       "<Figure size 864x360 with 1 Axes>"
      ]
     },
     "metadata": {
      "needs_background": "light"
     },
     "output_type": "display_data"
    }
   ],
   "source": [
    "# Visualising the number of categorical values present in tweet_intent column \n",
    "plt.figure(figsize=(12,5))\n",
    "sns.countplot(tweet_data['tweet_intent'])"
   ]
  },
  {
   "cell_type": "markdown",
   "id": "c2185845",
   "metadata": {},
   "source": [
    "## `Text Analysis`"
   ]
  },
  {
   "cell_type": "code",
   "execution_count": 11,
   "id": "2905ee3d",
   "metadata": {},
   "outputs": [],
   "source": [
    "tweet_data['tweet_text'] = tweet_data['tweet_text'].apply(lambda x: x.lower()) # Lowering down the case of all the tweets"
   ]
  },
  {
   "cell_type": "code",
   "execution_count": 12,
   "id": "bd77abb4",
   "metadata": {},
   "outputs": [
    {
     "data": {
      "text/plain": [
       "0    @crypto_brody @ecology1990 @moonrunnersnft @it...\n",
       "1    need sick character artâ_x009d_“#art #artist #...\n",
       "2    @the_hulk_nft @inagotchinft @tesla @killabears...\n",
       "3    @cryptobatznft @darekbtw the first project in ...\n",
       "4    @sashadysonn the first project in crypto with ...\n",
       "Name: tweet_text, dtype: object"
      ]
     },
     "execution_count": 12,
     "metadata": {},
     "output_type": "execute_result"
    }
   ],
   "source": [
    "tweet_data['tweet_text'].head() # It can be observed that all the tweets have been converted into lowercase"
   ]
  },
  {
   "cell_type": "code",
   "execution_count": 13,
   "id": "ba0dbbcb",
   "metadata": {},
   "outputs": [],
   "source": [
    "# Removing the Punctuation marks present in the tweets \n",
    "import string \n",
    "def remove_puntuation(data):\n",
    "    tweet = ''.join([i for i in data if i not in string.punctuation])\n",
    "    return tweet"
   ]
  },
  {
   "cell_type": "code",
   "execution_count": 14,
   "id": "2c4425ab",
   "metadata": {},
   "outputs": [],
   "source": [
    "tweet_data['tweet_text'] = tweet_data['tweet_text'].apply(lambda x: remove_puntuation(x))"
   ]
  },
  {
   "cell_type": "code",
   "execution_count": 15,
   "id": "b1724de3",
   "metadata": {},
   "outputs": [
    {
     "data": {
      "text/plain": [
       "0    cryptobrody ecology1990 moonrunnersnft itsukin...\n",
       "1    need sick character artâx009d“art artist artis...\n",
       "2    thehulknft inagotchinft tesla killabearsnft el...\n",
       "3    cryptobatznft darekbtw the first project in cr...\n",
       "4    sashadysonn the first project in crypto with m...\n",
       "Name: tweet_text, dtype: object"
      ]
     },
     "execution_count": 15,
     "metadata": {},
     "output_type": "execute_result"
    }
   ],
   "source": [
    "tweet_data['tweet_text'].head()"
   ]
  },
  {
   "cell_type": "code",
   "execution_count": 16,
   "id": "2be470c1",
   "metadata": {},
   "outputs": [
    {
     "name": "stderr",
     "output_type": "stream",
     "text": [
      "C:\\Users\\mdfai\\AppData\\Local\\Temp/ipykernel_14412/435505105.py:1: FutureWarning: The default value of regex will change from True to False in a future version.\n",
      "  tweet_data['tweet_text'] = tweet_data['tweet_text'].str.replace('[^\\w\\s]','')\n"
     ]
    }
   ],
   "source": [
    "# Removing spaces \n",
    "tweet_data['tweet_text'] = tweet_data['tweet_text'].str.replace('[^\\w\\s]','')"
   ]
  },
  {
   "cell_type": "code",
   "execution_count": 17,
   "id": "094af931",
   "metadata": {},
   "outputs": [
    {
     "data": {
      "text/plain": [
       "0    cryptobrody ecology1990 moonrunnersnft itsukin...\n",
       "1    need sick character artâx009dart artist artist...\n",
       "2    thehulknft inagotchinft tesla killabearsnft el...\n",
       "3    cryptobatznft darekbtw the first project in cr...\n",
       "4    sashadysonn the first project in crypto with m...\n",
       "Name: tweet_text, dtype: object"
      ]
     },
     "execution_count": 17,
     "metadata": {},
     "output_type": "execute_result"
    }
   ],
   "source": [
    "tweet_data['tweet_text'].head()"
   ]
  },
  {
   "cell_type": "code",
   "execution_count": 18,
   "id": "82d8850c",
   "metadata": {},
   "outputs": [],
   "source": [
    "tweet_data['tweet_text'] = tweet_data['tweet_text'].replace('\\d','')"
   ]
  },
  {
   "cell_type": "code",
   "execution_count": 19,
   "id": "7c842b4a",
   "metadata": {},
   "outputs": [
    {
     "data": {
      "text/plain": [
       "0    cryptobrody ecology1990 moonrunnersnft itsukin...\n",
       "1    need sick character artâx009dart artist artist...\n",
       "2    thehulknft inagotchinft tesla killabearsnft el...\n",
       "3    cryptobatznft darekbtw the first project in cr...\n",
       "4    sashadysonn the first project in crypto with m...\n",
       "Name: tweet_text, dtype: object"
      ]
     },
     "execution_count": 19,
     "metadata": {},
     "output_type": "execute_result"
    }
   ],
   "source": [
    "tweet_data['tweet_text'].head()"
   ]
  },
  {
   "cell_type": "code",
   "execution_count": 20,
   "id": "64db7192",
   "metadata": {},
   "outputs": [],
   "source": [
    "# Eliminating words called as stopwords that would not add much value to the model\n",
    "from nltk.corpus import stopwords\n",
    "import nltk\n",
    "sw = stopwords.words('english')\n",
    "tweet_data['tweet_text'] = tweet_data['tweet_text'].apply(lambda x: ' '.join([i for i in x.split() if i not in sw]))"
   ]
  },
  {
   "cell_type": "code",
   "execution_count": 21,
   "id": "c32b162e",
   "metadata": {},
   "outputs": [
    {
     "data": {
      "text/plain": [
       "0    cryptobrody ecology1990 moonrunnersnft itsukin...\n",
       "1    need sick character artâx009dart artist artist...\n",
       "2    thehulknft inagotchinft tesla killabearsnft el...\n",
       "3    cryptobatznft darekbtw first project crypto mo...\n",
       "4    sashadysonn first project crypto move earn ast...\n",
       "Name: tweet_text, dtype: object"
      ]
     },
     "execution_count": 21,
     "metadata": {},
     "output_type": "execute_result"
    }
   ],
   "source": [
    "tweet_data['tweet_text'].head()"
   ]
  },
  {
   "cell_type": "code",
   "execution_count": 22,
   "id": "367e1fe2",
   "metadata": {},
   "outputs": [],
   "source": [
    "# Using Lemmatization to get the lemmas of all the words present in the tweet \n",
    "from nltk.stem import WordNetLemmatizer\n",
    "word = WordNetLemmatizer()\n",
    "tweet_data['tweet_text'] = tweet_data['tweet_text'].apply(lambda x: word.lemmatize(x))"
   ]
  },
  {
   "cell_type": "code",
   "execution_count": 23,
   "id": "9c127934",
   "metadata": {},
   "outputs": [
    {
     "data": {
      "text/plain": [
       "0    cryptobrody ecology1990 moonrunnersnft itsukin...\n",
       "1    need sick character artâx009dart artist artist...\n",
       "2    thehulknft inagotchinft tesla killabearsnft el...\n",
       "3    cryptobatznft darekbtw first project crypto mo...\n",
       "4    sashadysonn first project crypto move earn ast...\n",
       "Name: tweet_text, dtype: object"
      ]
     },
     "execution_count": 23,
     "metadata": {},
     "output_type": "execute_result"
    }
   ],
   "source": [
    "tweet_data['tweet_text'].head()"
   ]
  },
  {
   "cell_type": "code",
   "execution_count": 24,
   "id": "0b70de5b",
   "metadata": {},
   "outputs": [
    {
     "data": {
      "text/plain": [
       "0    cryptobrody ecology moonrunnersnft itsukinft t...\n",
       "1    need sick character artâxdart artist artists a...\n",
       "2    thehulknft inagotchinft tesla killabearsnft el...\n",
       "3    cryptobatznft darekbtw first project crypto mo...\n",
       "4    sashadysonn first project crypto move earn ast...\n",
       "Name: tweet_text, dtype: object"
      ]
     },
     "execution_count": 24,
     "metadata": {},
     "output_type": "execute_result"
    }
   ],
   "source": [
    "# Removing Digits\n",
    "tweet_data['tweet_text'] = tweet_data['tweet_text'].apply(lambda x: ''.join([i for i in x if not i.isdigit()]))\n",
    "tweet_data['tweet_text'].head()"
   ]
  },
  {
   "cell_type": "code",
   "execution_count": 25,
   "id": "84396407",
   "metadata": {},
   "outputs": [
    {
     "data": {
      "text/plain": [
       "array(['Community', 'Giveaway', 'Appreciation', 'Presale', 'Whitelist',\n",
       "       'pinksale', 'Done', 'Interested', 'Launching Soon'], dtype=object)"
      ]
     },
     "execution_count": 25,
     "metadata": {},
     "output_type": "execute_result"
    }
   ],
   "source": [
    "tweet_data['tweet_intent'].unique()"
   ]
  },
  {
   "cell_type": "code",
   "execution_count": 26,
   "id": "6c55f34f",
   "metadata": {},
   "outputs": [
    {
     "data": {
      "text/html": [
       "<div>\n",
       "<style scoped>\n",
       "    .dataframe tbody tr th:only-of-type {\n",
       "        vertical-align: middle;\n",
       "    }\n",
       "\n",
       "    .dataframe tbody tr th {\n",
       "        vertical-align: top;\n",
       "    }\n",
       "\n",
       "    .dataframe thead th {\n",
       "        text-align: right;\n",
       "    }\n",
       "</style>\n",
       "<table border=\"1\" class=\"dataframe\">\n",
       "  <thead>\n",
       "    <tr style=\"text-align: right;\">\n",
       "      <th></th>\n",
       "      <th>tweet_text</th>\n",
       "      <th>tweet_intent</th>\n",
       "    </tr>\n",
       "  </thead>\n",
       "  <tbody>\n",
       "    <tr>\n",
       "      <th>0</th>\n",
       "      <td>cryptobrody ecology moonrunnersnft itsukinft t...</td>\n",
       "      <td>0</td>\n",
       "    </tr>\n",
       "    <tr>\n",
       "      <th>1</th>\n",
       "      <td>need sick character artâxdart artist artists a...</td>\n",
       "      <td>1</td>\n",
       "    </tr>\n",
       "    <tr>\n",
       "      <th>2</th>\n",
       "      <td>thehulknft inagotchinft tesla killabearsnft el...</td>\n",
       "      <td>2</td>\n",
       "    </tr>\n",
       "    <tr>\n",
       "      <th>3</th>\n",
       "      <td>cryptobatznft darekbtw first project crypto mo...</td>\n",
       "      <td>0</td>\n",
       "    </tr>\n",
       "    <tr>\n",
       "      <th>4</th>\n",
       "      <td>sashadysonn first project crypto move earn ast...</td>\n",
       "      <td>0</td>\n",
       "    </tr>\n",
       "  </tbody>\n",
       "</table>\n",
       "</div>"
      ],
      "text/plain": [
       "                                          tweet_text  tweet_intent\n",
       "0  cryptobrody ecology moonrunnersnft itsukinft t...             0\n",
       "1  need sick character artâxdart artist artists a...             1\n",
       "2  thehulknft inagotchinft tesla killabearsnft el...             2\n",
       "3  cryptobatznft darekbtw first project crypto mo...             0\n",
       "4  sashadysonn first project crypto move earn ast...             0"
      ]
     },
     "execution_count": 26,
     "metadata": {},
     "output_type": "execute_result"
    }
   ],
   "source": [
    "# Replacing the target values in tweet_intent column with numerics to develop machine learning model\n",
    "tweet_data['tweet_intent'] = tweet_data['tweet_intent'].replace(['Community', 'Giveaway', 'Appreciation', 'Presale', 'Whitelist',\n",
    "       'pinksale', 'Done', 'Interested', 'Launching Soon'],[0,1,2,3,4,5,6,7,8])\n",
    "tweet_data.head()"
   ]
  },
  {
   "cell_type": "markdown",
   "id": "b9dc5210",
   "metadata": {},
   "source": [
    "## `Machine Learning Model Development and its Interpretation`"
   ]
  },
  {
   "cell_type": "code",
   "execution_count": 35,
   "id": "4478bdfa",
   "metadata": {},
   "outputs": [],
   "source": [
    "# Importing essential libraries for development of the machine learning model\n",
    "from sklearn.feature_extraction.text import TfidfVectorizer\n",
    "from sklearn.linear_model import LogisticRegression\n",
    "from sklearn.model_selection import train_test_split\n",
    "from sklearn.metrics import accuracy_score, confusion_matrix, classification_report"
   ]
  },
  {
   "cell_type": "code",
   "execution_count": 28,
   "id": "7bd335aa",
   "metadata": {},
   "outputs": [],
   "source": [
    "tf = TfidfVectorizer()\n",
    "x = tf.fit_transform(tweet_data['tweet_text'])"
   ]
  },
  {
   "cell_type": "code",
   "execution_count": 29,
   "id": "c2d50ba4",
   "metadata": {},
   "outputs": [],
   "source": [
    "y = tweet_data['tweet_intent']"
   ]
  },
  {
   "cell_type": "code",
   "execution_count": 30,
   "id": "0f327453",
   "metadata": {},
   "outputs": [
    {
     "data": {
      "text/plain": [
       "<127453x207184 sparse matrix of type '<class 'numpy.float64'>'\n",
       "\twith 1923770 stored elements in Compressed Sparse Row format>"
      ]
     },
     "execution_count": 30,
     "metadata": {},
     "output_type": "execute_result"
    }
   ],
   "source": [
    "x"
   ]
  },
  {
   "cell_type": "code",
   "execution_count": 31,
   "id": "d8b8cffe",
   "metadata": {},
   "outputs": [],
   "source": [
    "# Splitting the dataset into training and testing set \n",
    "x_train, x_test, y_train, y_test = train_test_split(x,y, test_size=0.3)"
   ]
  },
  {
   "cell_type": "code",
   "execution_count": 33,
   "id": "80d304a6",
   "metadata": {},
   "outputs": [
    {
     "name": "stdout",
     "output_type": "stream",
     "text": [
      "Accuracy of the model is  95.96976671199916 %\n",
      "***********************************************************\n",
      "***********************************************************\n",
      "[[12234    91     3     0   112     0     0     1     1]\n",
      " [    5  5844     8     5    11     0     1     0     0]\n",
      " [  271   293 14212    60   384     9   146    44     6]\n",
      " [    0     2     3  1476    12     0     0     0     0]\n",
      " [    2    31     3     0  1940     0     0     0     0]\n",
      " [    0     3     0     0     1   149     0     0     0]\n",
      " [    0     5    22     0     1     0   764     0     0]\n",
      " [    0     0     1     1     1     0     1    45     0]\n",
      " [    0     0     0     0     1     0     0     0    31]]\n"
     ]
    },
    {
     "name": "stderr",
     "output_type": "stream",
     "text": [
      "C:\\Users\\mdfai\\anaconda3\\lib\\site-packages\\sklearn\\linear_model\\_logistic.py:763: ConvergenceWarning: lbfgs failed to converge (status=1):\n",
      "STOP: TOTAL NO. of ITERATIONS REACHED LIMIT.\n",
      "\n",
      "Increase the number of iterations (max_iter) or scale the data as shown in:\n",
      "    https://scikit-learn.org/stable/modules/preprocessing.html\n",
      "Please also refer to the documentation for alternative solver options:\n",
      "    https://scikit-learn.org/stable/modules/linear_model.html#logistic-regression\n",
      "  n_iter_i = _check_optimize_result(\n"
     ]
    }
   ],
   "source": [
    "# Development of Logistic Regression Model and checking the accuracy of the model \n",
    "lr = LogisticRegression()\n",
    "lr.fit(x_train, y_train)\n",
    "y_pred = lr.predict(x_test)\n",
    "print(\"Accuracy of the model is \",accuracy_score(y_pred,y_test)*100,\"%\")\n",
    "print(\"***********************************************************\")\n",
    "print(\"***********************************************************\")\n",
    "print(confusion_matrix(y_pred,y_test))"
   ]
  },
  {
   "cell_type": "code",
   "execution_count": 36,
   "id": "5da31869",
   "metadata": {},
   "outputs": [
    {
     "name": "stdout",
     "output_type": "stream",
     "text": [
      "              precision    recall  f1-score   support\n",
      "\n",
      "           0       0.98      0.98      0.98     12442\n",
      "           1       0.93      0.99      0.96      5874\n",
      "           2       1.00      0.92      0.96     15425\n",
      "           3       0.96      0.99      0.97      1493\n",
      "           4       0.79      0.98      0.87      1976\n",
      "           5       0.94      0.97      0.96       153\n",
      "           6       0.84      0.96      0.90       792\n",
      "           7       0.50      0.92      0.65        49\n",
      "           8       0.82      0.97      0.89        32\n",
      "\n",
      "    accuracy                           0.96     38236\n",
      "   macro avg       0.86      0.97      0.90     38236\n",
      "weighted avg       0.96      0.96      0.96     38236\n",
      "\n"
     ]
    }
   ],
   "source": [
    "# Showing the classification report to have a glance at the Precision and Recall Score \n",
    "print(classification_report(y_pred,y_test))"
   ]
  },
  {
   "cell_type": "code",
   "execution_count": null,
   "id": "e03c068b",
   "metadata": {},
   "outputs": [],
   "source": []
  }
 ],
 "metadata": {
  "kernelspec": {
   "display_name": "Python 3 (ipykernel)",
   "language": "python",
   "name": "python3"
  },
  "language_info": {
   "codemirror_mode": {
    "name": "ipython",
    "version": 3
   },
   "file_extension": ".py",
   "mimetype": "text/x-python",
   "name": "python",
   "nbconvert_exporter": "python",
   "pygments_lexer": "ipython3",
   "version": "3.9.7"
  }
 },
 "nbformat": 4,
 "nbformat_minor": 5
}
